{
 "cells": [
  {
   "cell_type": "code",
   "execution_count": 413,
   "metadata": {},
   "outputs": [],
   "source": [
    "import numpy as np\n",
    "import matplotlib.pyplot as plt\n",
    "import csv\n",
    "from sklearn.model_selection import train_test_split\n"
   ]
  },
  {
   "cell_type": "code",
   "execution_count": 414,
   "metadata": {},
   "outputs": [],
   "source": [
    "# sigmoid \"logistic\" function\n",
    "\n",
    "def sigmoid(z):\n",
    "    return 1 / (1 + np.exp(-z))\n"
   ]
  },
  {
   "cell_type": "code",
   "execution_count": 415,
   "metadata": {},
   "outputs": [],
   "source": [
    "features = []\n",
    "labels = []\n",
    "# load data\n",
    "import csv\n",
    "with open(\"Invistico_airline.csv\") as file:\n",
    "    headers = next(file)\n",
    "    X = np.array(list(csv.reader(file)),dtype=float)\n",
    "\n",
    "\n",
    "\n",
    "\n",
    "\"\"\"\n",
    "satisfied :1 , dissatisfied:0\n",
    "loyal :1 disloyal:0\n",
    "personal Travel : 1 businnes travel:0\n",
    "businnes:2 , Eco Plus:1 , Eco:0\n",
    "\"\"\"\n",
    "\n",
    "# first column is the label data\n",
    "Y = X[:,0]\n",
    "\n",
    "# # delete the last column\n",
    "X = np.delete(X, 0, axis=1)\n",
    "\n",
    "# # add the x0 column for the bias\n",
    "X = np.insert(X,0,1,axis=1)"
   ]
  },
  {
   "cell_type": "code",
   "execution_count": 416,
   "metadata": {},
   "outputs": [],
   "source": [
    "# normalize data\n",
    "X = X / X.max(axis=0)\n"
   ]
  },
  {
   "cell_type": "code",
   "execution_count": 417,
   "metadata": {},
   "outputs": [],
   "source": [
    "\n",
    "x_train,x_test,y_train,y_test = train_test_split(X,Y,test_size=0.2,random_state=0)\n",
    "\n"
   ]
  },
  {
   "cell_type": "code",
   "execution_count": 497,
   "metadata": {},
   "outputs": [],
   "source": [
    "EPOCHS = 500\n",
    "learning_rate = 0.01\n",
    "M = len(x_train)\n",
    "N = len(x_train[0])"
   ]
  },
  {
   "cell_type": "code",
   "execution_count": 498,
   "metadata": {},
   "outputs": [],
   "source": [
    "# initialize weights\n",
    "THETA = np.ones(shape=(N,1))\n",
    "THETA = THETA * 0.5\n"
   ]
  },
  {
   "cell_type": "code",
   "execution_count": 499,
   "metadata": {},
   "outputs": [],
   "source": [
    "\n",
    "costs = []\n",
    "for epoch in range(EPOCHS):\n",
    "    # calculate raw outputs\n",
    "    # usually denoted as Z\n",
    "    Z = x_train @ THETA\n",
    "    # pass the raw output to the sigmoid function to get the final hypothesis\n",
    "    A = sigmoid(Z)\n",
    "    \n",
    "    # calculate average cost\n",
    "    COST = -np.mean(np.multiply(np.log(A),y_train) + np.multiply(np.log(1-A),(1-y_train)))\n",
    "    costs.append(COST)\n",
    "    # print(f\"{epoch} cost: {COST}\")\n",
    "    error = A - np.reshape(y_train,newshape=(M,1))\n",
    "    # this is the overall derivative of each weight\n",
    "    GRADS =  1/M * x_train.T @ error\n",
    "    # update the weights\n",
    "\n",
    "    THETA = THETA - learning_rate * GRADS\n"
   ]
  },
  {
   "cell_type": "code",
   "execution_count": 500,
   "metadata": {},
   "outputs": [],
   "source": [
    "\n",
    "\n",
    "# prediction \n",
    "# decision boundary will be 0.7\n",
    "\n",
    "\n",
    "# calculate the outputs of the all the testing set\n",
    "PREDICTIONS = sigmoid(x_test @ THETA)\n"
   ]
  },
  {
   "cell_type": "code",
   "execution_count": 501,
   "metadata": {},
   "outputs": [],
   "source": [
    "# check if the prediction is less than 0.7 consider as 0 else consider as 1\n",
    "\n",
    "for i in range(len(PREDICTIONS)):\n",
    "    if PREDICTIONS[i] < 0.5:\n",
    "        PREDICTIONS[i] = 0\n",
    "    else:\n",
    "        PREDICTIONS[i] = 1\n"
   ]
  },
  {
   "cell_type": "code",
   "execution_count": 502,
   "metadata": {},
   "outputs": [
    {
     "data": {
      "text/plain": [
       "424"
      ]
     },
     "execution_count": 502,
     "metadata": {},
     "output_type": "execute_result"
    }
   ],
   "source": [
    "correct = np.sum(PREDICTIONS == np.reshape(y_test,newshape=(y_test.shape[0],1)))\n",
    "correct"
   ]
  },
  {
   "cell_type": "code",
   "execution_count": 503,
   "metadata": {},
   "outputs": [
    {
     "data": {
      "text/plain": [
       "84.13"
      ]
     },
     "execution_count": 503,
     "metadata": {},
     "output_type": "execute_result"
    }
   ],
   "source": [
    "round((correct/PREDICTIONS.shape[0]) * 100,ndigits=2)"
   ]
  },
  {
   "cell_type": "code",
   "execution_count": 504,
   "metadata": {},
   "outputs": [
    {
     "data": {
      "text/plain": [
       "[<matplotlib.lines.Line2D at 0x13745c210>]"
      ]
     },
     "execution_count": 504,
     "metadata": {},
     "output_type": "execute_result"
    },
    {
     "data": {
      "image/png": "[encoded data removed]",
      "text/plain": [
       "<Figure size 640x480 with 1 Axes>"
      ]
     },
     "metadata": {},
     "output_type": "display_data"
    }
   ],
   "source": [
    "plt.plot(costs)"
   ]
  },
  {
   "cell_type": "code",
   "execution_count": null,
   "metadata": {},
   "outputs": [],
   "source": []
  }
 ],
 "metadata": {
  "kernelspec": {
   "display_name": "Python 3",
   "language": "python",
   "name": "python3"
  },
  "language_info": {
   "codemirror_mode": {
    "name": "ipython",
    "version": 3
   },
   "file_extension": ".py",
   "mimetype": "text/x-python",
   "name": "python",
   "nbconvert_exporter": "python",
   "pygments_lexer": "ipython3",
   "version": "3.11.4"
  }
 },
 "nbformat": 4,
 "nbformat_minor": 2
}
