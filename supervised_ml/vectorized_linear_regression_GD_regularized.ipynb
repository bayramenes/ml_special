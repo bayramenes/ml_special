{
 "cells": [
  {
   "cell_type": "code",
   "execution_count": 1,
   "metadata": {},
   "outputs": [],
   "source": [
    "import numpy as np\n",
    "import matplotlib.pyplot as plt\n",
    "import csv"
   ]
  },
  {
   "cell_type": "code",
   "execution_count": 2,
   "metadata": {},
   "outputs": [],
   "source": [
    "# read the csv data\n",
    "\n",
    "with open('boston_housing.csv','r') as file:\n",
    "    headers = next(file)\n",
    "    X = np.array(list(csv.reader(file)),dtype=float)\n",
    "# last column in dataset is our target\n",
    "Y = X[:,-1]\n",
    "# and we want to drop the last column from the dataset\n",
    "X = np.delete(X, -1, axis=1)\n",
    "\n",
    "# we need to insert X0 column in the beginning which is initially 1\n",
    "X = np.insert(X,0,1,axis=1)\n",
    "    "
   ]
  },
  {
   "cell_type": "code",
   "execution_count": 5,
   "metadata": {},
   "outputs": [],
   "source": [
    "# training sample number\n",
    "m = X.shape[0]\n",
    "\n",
    "# features number\n",
    "n = X.shape[1]\n"
   ]
  },
  {
   "cell_type": "code",
   "execution_count": 6,
   "metadata": {},
   "outputs": [],
   "source": [
    "# normalize data\n",
    "X = X / X.max(axis=0)"
   ]
  },
  {
   "cell_type": "code",
   "execution_count": 7,
   "metadata": {},
   "outputs": [],
   "source": [
    "hypothesis =lambda THET :  X @ THET "
   ]
  },
  {
   "cell_type": "markdown",
   "metadata": {},
   "source": [
    "### for regularization the only thing we need to do is in the cost function we have to add squared weights multiplied by hyperparameter lambda"
   ]
  },
  {
   "cell_type": "code",
   "execution_count": 14,
   "metadata": {},
   "outputs": [],
   "source": [
    "\n",
    "cost = lambda hypo,THETA,LAMBDA:  1/(2*m) * np.transpose(hypo - Y) @ (hypo - Y) + LAMBDA/(2*m) * np.transpose(THETA) @ THETA\n"
   ]
  },
  {
   "cell_type": "code",
   "execution_count": 15,
   "metadata": {},
   "outputs": [],
   "source": [
    "gradients = lambda hypo,THETA,LAMBDA: (1/m) * np.transpose(X) @ (hypo - Y) + (LAMBDA / m) * THETA"
   ]
  },
  {
   "cell_type": "code",
   "execution_count": 17,
   "metadata": {},
   "outputs": [],
   "source": [
    "\n",
    "# initialize parameter vector with all 10\n",
    "THETA =np.ones(n)\n",
    "THETA  = THETA * 10\n",
    "\n",
    "\n",
    "# so small instead of normalizing input data\n",
    "alpha = 0.01\n",
    "LAMBDA = 1000\n",
    "EPOCHS = 700\n",
    "costs = []\n",
    "for epoch in range(EPOCHS):\n",
    "    COST =cost(hypothesis(THETA),THETA,LAMBDA)\n",
    "    costs.append(COST)\n",
    "\n",
    "    THETA = THETA - alpha * gradients(hypothesis(THETA),THETA,LAMBDA)\n",
    "    \n",
    "    \n",
    "    "
   ]
  },
  {
   "cell_type": "code",
   "execution_count": 18,
   "metadata": {},
   "outputs": [],
   "source": [
    "\n",
    "# normalize costs\n",
    "costs = costs / np.max(costs)"
   ]
  },
  {
   "cell_type": "code",
   "execution_count": 19,
   "metadata": {},
   "outputs": [
    {
     "data": {
      "text/plain": [
       "[<matplotlib.lines.Line2D at 0x11dcd9ed0>]"
      ]
     },
     "execution_count": 19,
     "metadata": {},
     "output_type": "execute_result"
    },
    {
     "data": {
      "image/png": "[encoded data removed]",
      "text/plain": [
       "<Figure size 640x480 with 1 Axes>"
      ]
     },
     "metadata": {},
     "output_type": "display_data"
    }
   ],
   "source": [
    "plt.grid()\n",
    "plt.plot(costs)"
   ]
  },
  {
   "cell_type": "code",
   "execution_count": 20,
   "metadata": {},
   "outputs": [
    {
     "data": {
      "text/plain": [
       "1.5374239709726304e-05"
      ]
     },
     "execution_count": 20,
     "metadata": {},
     "output_type": "execute_result"
    }
   ],
   "source": [
    "costs[-1]"
   ]
  },
  {
   "cell_type": "code",
   "execution_count": null,
   "metadata": {},
   "outputs": [],
   "source": []
  }
 ],
 "metadata": {
  "kernelspec": {
   "display_name": "Python 3",
   "language": "python",
   "name": "python3"
  },
  "language_info": {
   "codemirror_mode": {
    "name": "ipython",
    "version": 3
   },
   "file_extension": ".py",
   "mimetype": "text/x-python",
   "name": "python",
   "nbconvert_exporter": "python",
   "pygments_lexer": "ipython3",
   "version": "3.11.4"
  }
 },
 "nbformat": 4,
 "nbformat_minor": 2
}
