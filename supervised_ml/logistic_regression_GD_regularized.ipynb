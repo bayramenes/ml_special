{
 "cells": [
  {
   "cell_type": "code",
   "execution_count": 2,
   "metadata": {},
   "outputs": [],
   "source": [
    "import numpy as np\n",
    "import matplotlib.pyplot as plt\n",
    "import csv\n",
    "from sklearn.model_selection import train_test_split\n"
   ]
  },
  {
   "cell_type": "code",
   "execution_count": 3,
   "metadata": {},
   "outputs": [],
   "source": [
    "# sigmoid \"logistic\" function\n",
    "\n",
    "def sigmoid(z):\n",
    "    return 1 / (1 + np.exp(-z))\n"
   ]
  },
  {
   "cell_type": "code",
   "execution_count": 4,
   "metadata": {},
   "outputs": [],
   "source": [
    "features = []\n",
    "labels = []\n",
    "# load data\n",
    "import csv\n",
    "with open(\"Invistico_airline.csv\") as file:\n",
    "    headers = next(file)\n",
    "    X = np.array(list(csv.reader(file)),dtype=float)\n",
    "\n",
    "\n",
    "\n",
    "\n",
    "\"\"\"\n",
    "satisfied :1 , dissatisfied:0\n",
    "loyal :1 disloyal:0\n",
    "personal Travel : 1 businnes travel:0\n",
    "businnes:2 , Eco Plus:1 , Eco:0\n",
    "\"\"\"\n",
    "\n",
    "# first column is the label data\n",
    "Y = X[:,0]\n",
    "\n",
    "# # delete the last column\n",
    "X = np.delete(X, 0, axis=1)\n",
    "\n",
    "# # add the x0 column for the bias\n",
    "X = np.insert(X,0,1,axis=1)"
   ]
  },
  {
   "cell_type": "code",
   "execution_count": 5,
   "metadata": {},
   "outputs": [],
   "source": [
    "# normalize data\n",
    "X = X / X.max(axis=0)\n"
   ]
  },
  {
   "cell_type": "code",
   "execution_count": 66,
   "metadata": {},
   "outputs": [],
   "source": [
    "\n",
    "x_train,x_test,y_train,y_test = train_test_split(X,Y,test_size=0.2,random_state=0)\n",
    "y_train = np.reshape(y_train,newshape=(y_train.shape[0],1))\n",
    "y_test = np.reshape(y_test,newshape=(y_test.shape[0],1))\n"
   ]
  },
  {
   "cell_type": "code",
   "execution_count": 81,
   "metadata": {},
   "outputs": [],
   "source": [
    "EPOCHS = 3000\n",
    "# NOTE: added lambda which is the regularization hyperparameter\n",
    "LAMBDA = 100\n",
    "learning_rate = 0.01\n",
    "M = len(x_train)\n",
    "N = len(x_train[0])"
   ]
  },
  {
   "cell_type": "code",
   "execution_count": 82,
   "metadata": {},
   "outputs": [],
   "source": [
    "hypothesis = lambda THETA: sigmoid(x_train @ THETA)"
   ]
  },
  {
   "cell_type": "code",
   "execution_count": 83,
   "metadata": {},
   "outputs": [],
   "source": [
    "cost = lambda hypo,THETA,LAMBDA: (-1 / M ) * np.sum(y_train*np.log(hypo) + (1-y_train)*np.log(1-hypo)) + LAMBDA / (2 * M) * (THETA.T @ THETA)[0][0]"
   ]
  },
  {
   "cell_type": "code",
   "execution_count": 84,
   "metadata": {},
   "outputs": [],
   "source": [
    "gradients = lambda error,THETA,LAMBDA: 1/M * x_train.T @ error + LAMBDA / M * THETA"
   ]
  },
  {
   "cell_type": "code",
   "execution_count": 85,
   "metadata": {},
   "outputs": [],
   "source": [
    "# initialize weights\n",
    "THETA = np.ones(shape=(N,1))\n",
    "THETA = THETA * 0.5\n",
    "\n",
    "\n",
    "costs = []\n",
    "for epoch in range(EPOCHS):\n",
    "    A = hypothesis(THETA)\n",
    "    \n",
    "    # calculate average cost\n",
    "    costs.append(cost(A,THETA,LAMBDA))\n",
    "\n",
    "    error = A - y_train\n",
    "    # this is the overall derivative of each weight\n",
    "    GRADS =  gradients(error,THETA,LAMBDA)\n",
    "    # update the weights\n",
    "\n",
    "    THETA = THETA - learning_rate * GRADS\n"
   ]
  },
  {
   "cell_type": "code",
   "execution_count": 86,
   "metadata": {},
   "outputs": [],
   "source": [
    "\n",
    "\n",
    "# prediction \n",
    "# decision boundary will be 0.7\n",
    "\n",
    "\n",
    "# calculate the outputs of the all the testing set\n",
    "PREDICTIONS = sigmoid(x_test @ THETA)\n"
   ]
  },
  {
   "cell_type": "code",
   "execution_count": 87,
   "metadata": {},
   "outputs": [],
   "source": [
    "# check if the prediction is less than 0.7 consider as 0 else consider as 1\n",
    "\n",
    "for i in range(len(PREDICTIONS)):\n",
    "    if PREDICTIONS[i] < 0.5:\n",
    "        PREDICTIONS[i] = 0\n",
    "    else:\n",
    "        PREDICTIONS[i] = 1\n"
   ]
  },
  {
   "cell_type": "code",
   "execution_count": 88,
   "metadata": {},
   "outputs": [
    {
     "data": {
      "text/plain": [
       "451"
      ]
     },
     "execution_count": 88,
     "metadata": {},
     "output_type": "execute_result"
    }
   ],
   "source": [
    "correct = np.sum(PREDICTIONS == np.reshape(y_test,newshape=(y_test.shape[0],1)))\n",
    "correct"
   ]
  },
  {
   "cell_type": "code",
   "execution_count": 89,
   "metadata": {},
   "outputs": [
    {
     "data": {
      "text/plain": [
       "89.48"
      ]
     },
     "execution_count": 89,
     "metadata": {},
     "output_type": "execute_result"
    }
   ],
   "source": [
    "round((correct/PREDICTIONS.shape[0]) * 100,ndigits=2)"
   ]
  },
  {
   "cell_type": "code",
   "execution_count": 90,
   "metadata": {},
   "outputs": [
    {
     "data": {
      "text/plain": [
       "[<matplotlib.lines.Line2D at 0x286379f90>]"
      ]
     },
     "execution_count": 90,
     "metadata": {},
     "output_type": "execute_result"
    },
    {
     "data": {
      "image/png": "[encoded data removed]",
      "text/plain": [
       "<Figure size 640x480 with 1 Axes>"
      ]
     },
     "metadata": {},
     "output_type": "display_data"
    }
   ],
   "source": [
    "plt.plot(costs)"
   ]
  }
 ],
 "metadata": {
  "kernelspec": {
   "display_name": "Python 3",
   "language": "python",
   "name": "python3"
  },
  "language_info": {
   "codemirror_mode": {
    "name": "ipython",
    "version": 3
   },
   "file_extension": ".py",
   "mimetype": "text/x-python",
   "name": "python",
   "nbconvert_exporter": "python",
   "pygments_lexer": "ipython3",
   "version": "3.11.4"
  }
 },
 "nbformat": 4,
 "nbformat_minor": 2
}
